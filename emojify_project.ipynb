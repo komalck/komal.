{
  "nbformat": 4,
  "nbformat_minor": 0,
  "metadata": {
    "colab": {
      "name": "emojify_project.ipynb",
      "provenance": [],
      "collapsed_sections": [],
      "authorship_tag": "ABX9TyNpGWDj58Xtuvn2aRprNlE0",
      "include_colab_link": true
    },
    "kernelspec": {
      "name": "python3",
      "display_name": "Python 3"
    },
    "accelerator": "GPU"
  },
  "cells": [
    {
      "cell_type": "markdown",
      "metadata": {
        "id": "view-in-github",
        "colab_type": "text"
      },
      "source": [
        "<a href=\"https://colab.research.google.com/github/komalck/komal./blob/master/emojify_project.ipynb\" target=\"_parent\"><img src=\"https://colab.research.google.com/assets/colab-badge.svg\" alt=\"Open In Colab\"/></a>"
      ]
    },
    {
      "cell_type": "code",
      "metadata": {
        "id": "Meh9wc4zdoQT",
        "outputId": "3d7cb952-d5a5-4c4e-da42-e26a4ae68491",
        "colab": {
          "base_uri": "https://localhost:8080/",
          "height": 34
        }
      },
      "source": [
        "from zipfile import ZipFile\n",
        "file_name = \"emojify.zip\"\n",
        "\n",
        "with ZipFile(file_name, 'r') as zip:\n",
        "  zip.extractall()\n",
        "  print(\"Done\")"
      ],
      "execution_count": null,
      "outputs": [
        {
          "output_type": "stream",
          "text": [
            "Done\n"
          ],
          "name": "stdout"
        }
      ]
    },
    {
      "cell_type": "code",
      "metadata": {
        "id": "tT9qRwU8U5hc"
      },
      "source": [
        "import numpy as np\n",
        "import cv2\n",
        "from keras.models import Sequential\n",
        "from keras.layers import Dense, Dropout, Flatten\n",
        "from keras.layers import Conv2D\n",
        "from keras.optimizers import Adam\n",
        "from keras.layers import MaxPooling2D\n",
        "from keras.preprocessing.image import ImageDataGenerator"
      ],
      "execution_count": null,
      "outputs": []
    },
    {
      "cell_type": "code",
      "metadata": {
        "id": "S92aXPw8ouRb",
        "outputId": "2f659e85-8628-4f1f-f995-366acac2ccbb",
        "colab": {
          "base_uri": "https://localhost:8080/",
          "height": 51
        }
      },
      "source": [
        "train_dir = 'train'\n",
        "val_dir = 'test'\n",
        "train_datagen = ImageDataGenerator(rescale=1./255)\n",
        "val_datagen = ImageDataGenerator(rescale=1./255)\n",
        "\n",
        "train_generator = train_datagen.flow_from_directory(\n",
        "        train_dir,\n",
        "        target_size=(48,48),\n",
        "        batch_size=64,\n",
        "        color_mode=\"grayscale\",\n",
        "        class_mode='categorical')\n",
        "\n",
        "validation_generator = val_datagen.flow_from_directory(\n",
        "        val_dir,\n",
        "        target_size=(48,48),\n",
        "        batch_size=64,\n",
        "        color_mode=\"grayscale\",\n",
        "        class_mode='categorical')"
      ],
      "execution_count": null,
      "outputs": [
        {
          "output_type": "stream",
          "text": [
            "Found 28709 images belonging to 7 classes.\n",
            "Found 7178 images belonging to 7 classes.\n"
          ],
          "name": "stdout"
        }
      ]
    },
    {
      "cell_type": "code",
      "metadata": {
        "id": "t74GyVFJU5zy"
      },
      "source": [
        "emotion_model = Sequential()\n",
        "emotion_model.add(Conv2D(32, kernel_size=(3, 3), activation='relu', input_shape=(48,48,1)))\n",
        "emotion_model.add(Conv2D(64, kernel_size=(3, 3), activation='relu'))\n",
        "emotion_model.add(MaxPooling2D(pool_size=(2, 2)))\n",
        "emotion_model.add(Dropout(0.25))\n",
        "emotion_model.add(Conv2D(128, kernel_size=(3, 3), activation='relu'))\n",
        "emotion_model.add(MaxPooling2D(pool_size=(2, 2)))\n",
        "emotion_model.add(Conv2D(128, kernel_size=(3, 3), activation='relu'))\n",
        "emotion_model.add(MaxPooling2D(pool_size=(2, 2)))\n",
        "emotion_model.add(Dropout(0.25))\n",
        "emotion_model.add(Flatten())\n",
        "emotion_model.add(Dense(1024, activation='relu'))\n",
        "emotion_model.add(Dropout(0.5))\n",
        "emotion_model.add(Dense(7, activation='softmax'))"
      ],
      "execution_count": null,
      "outputs": []
    },
    {
      "cell_type": "code",
      "metadata": {
        "id": "ndB4aIimU5o3",
        "outputId": "e31b7a9f-3eaf-46ac-bfc9-2bfccdf7ae02",
        "colab": {
          "base_uri": "https://localhost:8080/",
          "height": 1000
        }
      },
      "source": [
        "emotion_model.compile(loss='categorical_crossentropy',optimizer=Adam(lr=0.0001, decay=1e-6),metrics=['accuracy'])\n",
        "emotion_model_info = emotion_model.fit_generator(\n",
        "        train_generator,\n",
        "        steps_per_epoch=28709 // 64,\n",
        "        epochs=50,\n",
        "        validation_data=validation_generator,\n",
        "        validation_steps=7178 // 64)"
      ],
      "execution_count": null,
      "outputs": [
        {
          "output_type": "stream",
          "text": [
            "WARNING:tensorflow:From <ipython-input-9-262a6af64eb7>:7: Model.fit_generator (from tensorflow.python.keras.engine.training) is deprecated and will be removed in a future version.\n",
            "Instructions for updating:\n",
            "Please use Model.fit, which supports generators.\n",
            "Epoch 1/50\n",
            "448/448 [==============================] - 17s 38ms/step - loss: 1.7978 - accuracy: 0.2616 - val_loss: 1.7042 - val_accuracy: 0.3478\n",
            "Epoch 2/50\n",
            "448/448 [==============================] - 16s 36ms/step - loss: 1.6285 - accuracy: 0.3666 - val_loss: 1.5448 - val_accuracy: 0.4135\n",
            "Epoch 3/50\n",
            "448/448 [==============================] - 16s 36ms/step - loss: 1.5391 - accuracy: 0.4084 - val_loss: 1.4752 - val_accuracy: 0.4382\n",
            "Epoch 4/50\n",
            "448/448 [==============================] - 16s 36ms/step - loss: 1.4684 - accuracy: 0.4370 - val_loss: 1.4233 - val_accuracy: 0.4576\n",
            "Epoch 5/50\n",
            "448/448 [==============================] - 16s 36ms/step - loss: 1.4113 - accuracy: 0.4606 - val_loss: 1.3772 - val_accuracy: 0.4802\n",
            "Epoch 6/50\n",
            "448/448 [==============================] - 16s 36ms/step - loss: 1.3621 - accuracy: 0.4808 - val_loss: 1.3271 - val_accuracy: 0.4930\n",
            "Epoch 7/50\n",
            "448/448 [==============================] - 16s 36ms/step - loss: 1.3206 - accuracy: 0.4996 - val_loss: 1.2928 - val_accuracy: 0.5089\n",
            "Epoch 8/50\n",
            "448/448 [==============================] - 16s 36ms/step - loss: 1.2811 - accuracy: 0.5147 - val_loss: 1.2783 - val_accuracy: 0.5145\n",
            "Epoch 9/50\n",
            "448/448 [==============================] - 16s 36ms/step - loss: 1.2457 - accuracy: 0.5308 - val_loss: 1.2300 - val_accuracy: 0.5382\n",
            "Epoch 10/50\n",
            "448/448 [==============================] - 16s 36ms/step - loss: 1.2126 - accuracy: 0.5456 - val_loss: 1.2086 - val_accuracy: 0.5452\n",
            "Epoch 11/50\n",
            "448/448 [==============================] - 16s 36ms/step - loss: 1.1823 - accuracy: 0.5573 - val_loss: 1.1893 - val_accuracy: 0.5532\n",
            "Epoch 12/50\n",
            "448/448 [==============================] - 16s 36ms/step - loss: 1.1559 - accuracy: 0.5682 - val_loss: 1.1829 - val_accuracy: 0.5578\n",
            "Epoch 13/50\n",
            "448/448 [==============================] - 16s 36ms/step - loss: 1.1266 - accuracy: 0.5780 - val_loss: 1.1560 - val_accuracy: 0.5682\n",
            "Epoch 14/50\n",
            "448/448 [==============================] - 16s 36ms/step - loss: 1.1030 - accuracy: 0.5898 - val_loss: 1.1585 - val_accuracy: 0.5643\n",
            "Epoch 15/50\n",
            "448/448 [==============================] - 16s 36ms/step - loss: 1.0756 - accuracy: 0.6010 - val_loss: 1.1364 - val_accuracy: 0.5806\n",
            "Epoch 16/50\n",
            "448/448 [==============================] - 16s 36ms/step - loss: 1.0530 - accuracy: 0.6071 - val_loss: 1.1318 - val_accuracy: 0.5784\n",
            "Epoch 17/50\n",
            "448/448 [==============================] - 16s 36ms/step - loss: 1.0268 - accuracy: 0.6161 - val_loss: 1.1348 - val_accuracy: 0.5813\n",
            "Epoch 18/50\n",
            "448/448 [==============================] - 16s 36ms/step - loss: 1.0098 - accuracy: 0.6276 - val_loss: 1.1119 - val_accuracy: 0.5914\n",
            "Epoch 19/50\n",
            "448/448 [==============================] - 16s 36ms/step - loss: 0.9859 - accuracy: 0.6353 - val_loss: 1.1052 - val_accuracy: 0.5956\n",
            "Epoch 20/50\n",
            "448/448 [==============================] - 16s 36ms/step - loss: 0.9577 - accuracy: 0.6478 - val_loss: 1.0948 - val_accuracy: 0.5982\n",
            "Epoch 21/50\n",
            "448/448 [==============================] - 16s 36ms/step - loss: 0.9399 - accuracy: 0.6573 - val_loss: 1.0991 - val_accuracy: 0.5996\n",
            "Epoch 22/50\n",
            "448/448 [==============================] - 16s 36ms/step - loss: 0.9178 - accuracy: 0.6599 - val_loss: 1.0841 - val_accuracy: 0.6044\n",
            "Epoch 23/50\n",
            "448/448 [==============================] - 16s 36ms/step - loss: 0.8861 - accuracy: 0.6731 - val_loss: 1.0900 - val_accuracy: 0.6057\n",
            "Epoch 24/50\n",
            "448/448 [==============================] - 16s 36ms/step - loss: 0.8603 - accuracy: 0.6847 - val_loss: 1.0790 - val_accuracy: 0.6051\n",
            "Epoch 25/50\n",
            "448/448 [==============================] - 16s 36ms/step - loss: 0.8418 - accuracy: 0.6884 - val_loss: 1.0799 - val_accuracy: 0.6073\n",
            "Epoch 26/50\n",
            "448/448 [==============================] - 16s 36ms/step - loss: 0.8167 - accuracy: 0.7001 - val_loss: 1.0799 - val_accuracy: 0.6110\n",
            "Epoch 27/50\n",
            "448/448 [==============================] - 16s 36ms/step - loss: 0.7955 - accuracy: 0.7104 - val_loss: 1.0810 - val_accuracy: 0.6157\n",
            "Epoch 28/50\n",
            "448/448 [==============================] - 16s 36ms/step - loss: 0.7729 - accuracy: 0.7182 - val_loss: 1.0842 - val_accuracy: 0.6069\n",
            "Epoch 29/50\n",
            "448/448 [==============================] - 16s 36ms/step - loss: 0.7529 - accuracy: 0.7268 - val_loss: 1.0873 - val_accuracy: 0.6099\n",
            "Epoch 30/50\n",
            "448/448 [==============================] - 16s 36ms/step - loss: 0.7310 - accuracy: 0.7336 - val_loss: 1.0919 - val_accuracy: 0.6088\n",
            "Epoch 31/50\n",
            "448/448 [==============================] - 16s 36ms/step - loss: 0.7008 - accuracy: 0.7434 - val_loss: 1.1018 - val_accuracy: 0.6099\n",
            "Epoch 32/50\n",
            "448/448 [==============================] - 16s 36ms/step - loss: 0.6861 - accuracy: 0.7514 - val_loss: 1.0923 - val_accuracy: 0.6130\n",
            "Epoch 33/50\n",
            "448/448 [==============================] - 16s 36ms/step - loss: 0.6623 - accuracy: 0.7604 - val_loss: 1.0951 - val_accuracy: 0.6168\n",
            "Epoch 34/50\n",
            "448/448 [==============================] - 16s 37ms/step - loss: 0.6401 - accuracy: 0.7662 - val_loss: 1.1013 - val_accuracy: 0.6120\n",
            "Epoch 35/50\n",
            "448/448 [==============================] - 16s 36ms/step - loss: 0.6211 - accuracy: 0.7734 - val_loss: 1.1022 - val_accuracy: 0.6189\n",
            "Epoch 36/50\n",
            "448/448 [==============================] - 16s 36ms/step - loss: 0.6051 - accuracy: 0.7812 - val_loss: 1.0992 - val_accuracy: 0.6217\n",
            "Epoch 37/50\n",
            "448/448 [==============================] - 16s 36ms/step - loss: 0.5811 - accuracy: 0.7907 - val_loss: 1.1106 - val_accuracy: 0.6165\n",
            "Epoch 38/50\n",
            "448/448 [==============================] - 16s 36ms/step - loss: 0.5573 - accuracy: 0.7985 - val_loss: 1.1140 - val_accuracy: 0.6223\n",
            "Epoch 39/50\n",
            "448/448 [==============================] - 16s 36ms/step - loss: 0.5459 - accuracy: 0.8035 - val_loss: 1.1291 - val_accuracy: 0.6147\n",
            "Epoch 40/50\n",
            "448/448 [==============================] - 16s 36ms/step - loss: 0.5244 - accuracy: 0.8098 - val_loss: 1.1488 - val_accuracy: 0.6180\n",
            "Epoch 41/50\n",
            "448/448 [==============================] - 16s 36ms/step - loss: 0.5124 - accuracy: 0.8145 - val_loss: 1.1480 - val_accuracy: 0.6161\n",
            "Epoch 42/50\n",
            "448/448 [==============================] - 16s 36ms/step - loss: 0.4884 - accuracy: 0.8250 - val_loss: 1.1418 - val_accuracy: 0.6143\n",
            "Epoch 43/50\n",
            "448/448 [==============================] - 16s 36ms/step - loss: 0.4732 - accuracy: 0.8281 - val_loss: 1.1703 - val_accuracy: 0.6173\n",
            "Epoch 44/50\n",
            "448/448 [==============================] - 16s 36ms/step - loss: 0.4572 - accuracy: 0.8368 - val_loss: 1.1905 - val_accuracy: 0.6201\n",
            "Epoch 45/50\n",
            "448/448 [==============================] - 16s 36ms/step - loss: 0.4455 - accuracy: 0.8416 - val_loss: 1.1686 - val_accuracy: 0.6242\n",
            "Epoch 46/50\n",
            "448/448 [==============================] - 16s 36ms/step - loss: 0.4302 - accuracy: 0.8438 - val_loss: 1.1868 - val_accuracy: 0.6201\n",
            "Epoch 47/50\n",
            "448/448 [==============================] - 16s 36ms/step - loss: 0.4217 - accuracy: 0.8505 - val_loss: 1.1691 - val_accuracy: 0.6208\n",
            "Epoch 48/50\n",
            "448/448 [==============================] - 16s 36ms/step - loss: 0.4055 - accuracy: 0.8569 - val_loss: 1.1950 - val_accuracy: 0.6210\n",
            "Epoch 49/50\n",
            "448/448 [==============================] - 16s 36ms/step - loss: 0.3888 - accuracy: 0.8618 - val_loss: 1.2145 - val_accuracy: 0.6207\n",
            "Epoch 50/50\n",
            "448/448 [==============================] - 17s 37ms/step - loss: 0.3823 - accuracy: 0.8632 - val_loss: 1.2169 - val_accuracy: 0.6159\n"
          ],
          "name": "stdout"
        }
      ]
    },
    {
      "cell_type": "code",
      "metadata": {
        "id": "1zPtvnjgzo6u"
      },
      "source": [
        "emotion_model.save_weights('model.h5')"
      ],
      "execution_count": null,
      "outputs": []
    },
    {
      "cell_type": "code",
      "metadata": {
        "id": "5H_Wzj2xzpCJ"
      },
      "source": [
        "cv2.ocl.setUseOpenCL(False)\n",
        "\n",
        "\n",
        "emotion_dict = {0: \"Angry\", 1: \"Disgusted\", 2: \"Fearful\", 3: \"Happy\", 4: \"Neutral\", 5: \"Sad\", 6: \"Surprised\"}\n",
        "\n",
        "\n",
        "cap = cv2.VideoCapture(0)\n",
        "\n",
        "while True:\n",
        "    ret, frame = cap.read()\n",
        "    if not ret:\n",
        "        break\n",
        "    bounding_box = cv2.CascadeClassifier('/home/shivam/.local/lib/python3.6/site-packages/cv2/data/haarcascade_frontalface_default.xml')\n",
        "    gray_frame = cv2.cvtColor(frame, cv2.COLOR_BGR2gray_frame)\n",
        "    num_faces = bounding_box.detectMultiScale(gray_frame,scaleFactor=1.3, minNeighbors=5)\n",
        "    \n",
        "    for (x, y, w, h) in num_faces:\n",
        "        cv2.rectangle(frame, (x, y-50), (x+w, y+h+10), (255, 0, 0), 2)\n",
        "        roi_gray_frame = gray_frame[y:y + h, x:x + w]\n",
        "        cropped_img = np.expand_dims(np.expand_dims(cv2.resize(roi_gray_frame, (48, 48)), -1), 0)\n",
        "        emotion_prediction = emotion_model.predict(cropped_img)\n",
        "        maxindex = int(np.argmax(emotion_prediction))\n",
        "        cv2.putText(frame, emotion_dict[maxindex], (x+20, y-60), cv2.FONT_HERSHEY_SIMPLEX, 1, (255, 255, 255), 2, cv2.LINE_AA)\n",
        "\n",
        "\n",
        "    cv2.imshow('Video', cv2.resize(frame,(1200,860),interpolation = cv2.INTER_CUBIC))\n",
        "    if cv2.waitKey(1) & 0xFF == ord('q'):\n",
        "      cap.release()\n",
        "      cv2.destroyAllWindows()\n",
        "      break"
      ],
      "execution_count": null,
      "outputs": []
    },
    {
      "cell_type": "code",
      "metadata": {
        "id": "CTXu9jgF8Qbb",
        "outputId": "edffb79f-6dd0-45b3-bbc0-9d8407391f02",
        "colab": {
          "base_uri": "https://localhost:8080/",
          "height": 204
        }
      },
      "source": [
        "!wget https://github.com/opencv/opencv/blob/master/data/haarcascades/haarcascade_frontalface_default.xml"
      ],
      "execution_count": null,
      "outputs": [
        {
          "output_type": "stream",
          "text": [
            "--2020-09-26 11:36:06--  https://github.com/opencv/opencv/blob/master/data/haarcascades/haarcascade_frontalface_default.xml\n",
            "Resolving github.com (github.com)... 140.82.114.3\n",
            "Connecting to github.com (github.com)|140.82.114.3|:443... connected.\n",
            "HTTP request sent, awaiting response... 200 OK\n",
            "Length: unspecified [text/html]\n",
            "Saving to: ‘haarcascade_frontalface_default.xml’\n",
            "\n",
            "haarcascade_frontal     [      <=>           ]   8.24M  4.60MB/s    in 1.8s    \n",
            "\n",
            "2020-09-26 11:36:09 (4.60 MB/s) - ‘haarcascade_frontalface_default.xml’ saved [8642697]\n",
            "\n"
          ],
          "name": "stdout"
        }
      ]
    },
    {
      "cell_type": "code",
      "metadata": {
        "id": "Aib48LvWzpJE",
        "outputId": "7f3a8790-c867-415d-e99b-e10bb45a44e1",
        "colab": {
          "base_uri": "https://localhost:8080/",
          "height": 350
        }
      },
      "source": [
        "import tkinter as tk\n",
        "from tkinter import *\n",
        "import cv2\n",
        "from PIL import Image, ImageTk\n",
        "import os\n",
        "import numpy as np\n",
        "import cv2\n",
        "from keras.models import Sequential\n",
        "from keras.layers import Dense, Dropout, Flatten\n",
        "from keras.layers import Conv2D\n",
        "from keras.optimizers import Adam\n",
        "from keras.layers import MaxPooling2D\n",
        "from keras.preprocessing.image import ImageDataGenerator\n",
        "import matplotlib\n",
        "matplotlib.use('Agg')\n",
        "%matplotlib inline\n",
        "\n",
        "\n",
        "emotion_model = Sequential()\n",
        "\n",
        "\n",
        "emotion_model.add(Conv2D(32, kernel_size=(3, 3), activation='relu', input_shape=(48,48,1)))\n",
        "emotion_model.add(Conv2D(64, kernel_size=(3, 3), activation='relu'))\n",
        "emotion_model.add(MaxPooling2D(pool_size=(2, 2)))\n",
        "emotion_model.add(Dropout(0.25))\n",
        "\n",
        "\n",
        "emotion_model.add(Conv2D(128, kernel_size=(3, 3), activation='relu'))\n",
        "emotion_model.add(MaxPooling2D(pool_size=(2, 2)))\n",
        "emotion_model.add(Conv2D(128, kernel_size=(3, 3), activation='relu'))\n",
        "emotion_model.add(MaxPooling2D(pool_size=(2, 2)))\n",
        "emotion_model.add(Dropout(0.25))\n",
        "\n",
        "\n",
        "emotion_model.add(Flatten())\n",
        "emotion_model.add(Dense(1024, activation='relu'))\n",
        "emotion_model.add(Dropout(0.5))\n",
        "emotion_model.add(Dense(7, activation='softmax'))\n",
        "emotion_model.load_weights('model.h5')\n",
        "\n",
        "\n",
        "cv2.ocl.setUseOpenCL(False)\n",
        "\n",
        "\n",
        "emotion_dict = {0: \"   Angry   \", 1: \"Disgust\", 2: \"  Fear   \", 3: \"   Happy   \", 4: \"  Neutral  \", 5: \"    Sad    \", 6: \"Surprise\"}\n",
        "\n",
        "\n",
        "emoji_dist={0:\"./emojis/angry.png\",2:\"./emojis/disgust.png\",2:\"./emojis/fear.png\",3:\"./emojis/happy.png\",4:\"./emojis/neutral.png\",5:\"./emojis/sad.png\",6:\"./emojis/surprise.png\"}\n",
        "\n",
        "\n",
        "global last_frame1                                    \n",
        "last_frame1 = np.zeros((480, 640, 3), dtype=np.uint8)\n",
        "global cap1\n",
        "show_text=[0]\n",
        "def show_vid():      \n",
        "    cap1 = cv2.VideoCapture(0)                                 \n",
        "    if not cap1.isOpened():                             \n",
        "        print(\"cant open the camera1\")\n",
        "    flag1, frame1 = cap1.read()\n",
        "    frame1 = cv2.resize(frame1,(600,500))\n",
        "\n",
        "\n",
        "    bounding_box = cv2.CascadeClassifier('/content/zoom_0.mp4')\n",
        "    gray_frame = cv2.cvtColor(frame1, cv2.COLOR_BGR2GRAY)\n",
        "    num_faces = bounding_box.detectMultiScale(gray_frame,scaleFactor=1.3, minNeighbors=5)\n",
        "\n",
        "\n",
        "    for (x, y, w, h) in num_faces:\n",
        "        cv2.rectangle(frame1, (x, y-50), (x+w, y+h+10), (255, 0, 0), 2)\n",
        "        roi_gray_frame = gray_frame[y:y + h, x:x + w]\n",
        "        cropped_img = np.expand_dims(np.expand_dims(cv2.resize(roi_gray_frame, (48, 48)), -1), 0)\n",
        "        prediction = emotion_model.predict(cropped_img)\n",
        "\n",
        "\n",
        "        maxindex = int(np.argmax(prediction))\n",
        "        cv2.putText(frame1, emotion_dict[maxindex], (x+20, y-60), cv2.FONT_HERSHEY_SIMPLEX, 1, (255, 255, 255), 2, cv2.LINE_AA)\n",
        "        show_text[0]=maxindex\n",
        "    if flag1 is None:\n",
        "        print (\"Major error!\")\n",
        "    elif flag1:\n",
        "        global last_frame1\n",
        "        last_frame1 = frame1.copy()\n",
        "        pic = cv2.cvtColor(last_frame1, cv2.COLOR_BGR2RGB)     \n",
        "        img = Image.fromarray(pic)\n",
        "        imgtk = ImageTk.PhotoImage(image=img)\n",
        "        lmain.imgtk = imgtk\n",
        "        lmain.configure(image=imgtk)\n",
        "        lmain.after(10, show_vid)\n",
        "    if cv2.waitKey(1) & 0xFF == ord('q'):\n",
        "        exit()\n",
        "\n",
        "\n",
        "def show_vid2():\n",
        "    frame2=cv2.imread(emoji_dist[show_text[0]])\n",
        "    pic2=cv2.cvtColor(frame2,cv2.COLOR_BGR2RGB)\n",
        "    img2=Image.fromarray(frame2)\n",
        "    imgtk2=ImageTk.PhotoImage(image=img2)\n",
        "    lmain2.imgtk2=imgtk2\n",
        "    lmain3.configure(text=emotion_dict[show_text[0]],font=('arial',45,'bold'))\n",
        "    \n",
        "    lmain2.configure(image=imgtk2)\n",
        "    lmain2.after(10, show_vid2)\n",
        "if __name__ == '__main__': \n",
        "    root=tk.Tk\n",
        "    img = ImageTk.PhotoImage(Image.open(\"logo.png\"))\n",
        "    heading = Label(root,image=img,bg='black')\n",
        "    \n",
        "\n",
        "    heading.pack() \n",
        "    heading2=Label(root,text=\"Photo to Emoji\",pady=20, font=('arial',45,'bold'),bg='black',fg='#CDCDCD')                                 \n",
        "    \n",
        "\n",
        "    heading2.pack()\n",
        "    lmain = tk.Label(master=root,padx=50,bd=10)\n",
        "    lmain2 = tk.Label(master=root,bd=10)\n",
        "\n",
        "\n",
        "    lmain3=tk.Label(master=root,bd=10,fg=\"#CDCDCD\",bg='black')\n",
        "    lmain.pack(side=LEFT)\n",
        "    lmain.place(x=50,y=250)\n",
        "    lmain3.pack()\n",
        "    lmain3.place(x=960,y=250)\n",
        "    lmain2.pack(side=RIGHT)\n",
        "    lmain2.place(x=900,y=350)\n",
        "    \n",
        "\n",
        "    root.title(\"Photo To Emoji\")            \n",
        "    root.geometry(\"1400x900+100+10\") \n",
        "    root['bg']='black'\n",
        "    exitbutton = Button(root, text='Quit',fg=\"red\",command=root.destroy,font=('arial',25,'bold')).pack(side = BOTTOM)\n",
        "    show_vid()\n",
        "    show_vid2()\n",
        "    root.mainloop()"
      ],
      "execution_count": null,
      "outputs": [
        {
          "output_type": "error",
          "ename": "FileNotFoundError",
          "evalue": "ignored",
          "traceback": [
            "\u001b[0;31m---------------------------------------------------------------------------\u001b[0m",
            "\u001b[0;31mFileNotFoundError\u001b[0m                         Traceback (most recent call last)",
            "\u001b[0;32m<ipython-input-4-3ad9e2135a22>\u001b[0m in \u001b[0;36m<module>\u001b[0;34m()\u001b[0m\n\u001b[1;32m    103\u001b[0m \u001b[0;32mif\u001b[0m \u001b[0m__name__\u001b[0m \u001b[0;34m==\u001b[0m \u001b[0;34m'__main__'\u001b[0m\u001b[0;34m:\u001b[0m\u001b[0;34m\u001b[0m\u001b[0;34m\u001b[0m\u001b[0m\n\u001b[1;32m    104\u001b[0m     \u001b[0mroot\u001b[0m\u001b[0;34m=\u001b[0m\u001b[0mtk\u001b[0m\u001b[0;34m.\u001b[0m\u001b[0mTk\u001b[0m\u001b[0;34m\u001b[0m\u001b[0;34m\u001b[0m\u001b[0m\n\u001b[0;32m--> 105\u001b[0;31m     \u001b[0mimg\u001b[0m \u001b[0;34m=\u001b[0m \u001b[0mImageTk\u001b[0m\u001b[0;34m.\u001b[0m\u001b[0mPhotoImage\u001b[0m\u001b[0;34m(\u001b[0m\u001b[0mImage\u001b[0m\u001b[0;34m.\u001b[0m\u001b[0mopen\u001b[0m\u001b[0;34m(\u001b[0m\u001b[0;34m\"logo.png\"\u001b[0m\u001b[0;34m)\u001b[0m\u001b[0;34m)\u001b[0m\u001b[0;34m\u001b[0m\u001b[0;34m\u001b[0m\u001b[0m\n\u001b[0m\u001b[1;32m    106\u001b[0m     \u001b[0mheading\u001b[0m \u001b[0;34m=\u001b[0m \u001b[0mLabel\u001b[0m\u001b[0;34m(\u001b[0m\u001b[0mroot\u001b[0m\u001b[0;34m,\u001b[0m\u001b[0mimage\u001b[0m\u001b[0;34m=\u001b[0m\u001b[0mimg\u001b[0m\u001b[0;34m,\u001b[0m\u001b[0mbg\u001b[0m\u001b[0;34m=\u001b[0m\u001b[0;34m'black'\u001b[0m\u001b[0;34m)\u001b[0m\u001b[0;34m\u001b[0m\u001b[0;34m\u001b[0m\u001b[0m\n\u001b[1;32m    107\u001b[0m \u001b[0;34m\u001b[0m\u001b[0m\n",
            "\u001b[0;32m/usr/local/lib/python3.6/dist-packages/PIL/Image.py\u001b[0m in \u001b[0;36mopen\u001b[0;34m(fp, mode)\u001b[0m\n\u001b[1;32m   2807\u001b[0m \u001b[0;34m\u001b[0m\u001b[0m\n\u001b[1;32m   2808\u001b[0m     \u001b[0;32mif\u001b[0m \u001b[0mfilename\u001b[0m\u001b[0;34m:\u001b[0m\u001b[0;34m\u001b[0m\u001b[0;34m\u001b[0m\u001b[0m\n\u001b[0;32m-> 2809\u001b[0;31m         \u001b[0mfp\u001b[0m \u001b[0;34m=\u001b[0m \u001b[0mbuiltins\u001b[0m\u001b[0;34m.\u001b[0m\u001b[0mopen\u001b[0m\u001b[0;34m(\u001b[0m\u001b[0mfilename\u001b[0m\u001b[0;34m,\u001b[0m \u001b[0;34m\"rb\"\u001b[0m\u001b[0;34m)\u001b[0m\u001b[0;34m\u001b[0m\u001b[0;34m\u001b[0m\u001b[0m\n\u001b[0m\u001b[1;32m   2810\u001b[0m         \u001b[0mexclusive_fp\u001b[0m \u001b[0;34m=\u001b[0m \u001b[0;32mTrue\u001b[0m\u001b[0;34m\u001b[0m\u001b[0;34m\u001b[0m\u001b[0m\n\u001b[1;32m   2811\u001b[0m \u001b[0;34m\u001b[0m\u001b[0m\n",
            "\u001b[0;31mFileNotFoundError\u001b[0m: [Errno 2] No such file or directory: 'logo.png'"
          ]
        }
      ]
    }
  ]
}